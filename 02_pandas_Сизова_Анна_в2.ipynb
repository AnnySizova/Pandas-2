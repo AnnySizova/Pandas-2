{
 "cells": [
  {
   "cell_type": "markdown",
   "metadata": {},
   "source": [
    "# Pandas"
   ]
  },
  {
   "cell_type": "markdown",
   "metadata": {},
   "source": [
    "## Лабораторная работа №2"
   ]
  },
  {
   "cell_type": "markdown",
   "metadata": {},
   "source": [
    "### Базовые операции с `DataFrame`"
   ]
  },
  {
   "cell_type": "markdown",
   "metadata": {},
   "source": [
    "1.1 В файлах `recipes_sample.csv` и `reviews_sample.csv` находится информация об рецептах блюд и отзывах на эти рецепты соответственно. Загрузите данные из файлов в виде `pd.DataFrame` с названиями `recipes` и `reviews`. Обратите внимание на корректное считывание столбца с индексами в таблице `reviews` (безымянный столбец)."
   ]
  },
  {
   "cell_type": "code",
   "execution_count": 2,
   "metadata": {},
   "outputs": [
    {
     "name": "stdout",
     "output_type": "stream",
     "text": [
      "                                               name      id  minutes  \\\n",
      "0             george s at the cove  black bean soup   44123       90   \n",
      "1                healthy for them  yogurt popsicles   67664       10   \n",
      "2                      i can t believe it s spinach   38798       30   \n",
      "3                              italian  gut busters   35173       45   \n",
      "4          love is in the air  beef fondue   sauces   84797       25   \n",
      "...                                             ...     ...      ...   \n",
      "29995  zurie s holey rustic olive and cheddar bread  267661       80   \n",
      "29996          zwetschgenkuchen  bavarian plum cake  386977      240   \n",
      "29997   zwiebelkuchen   southwest german onion cake  103312       75   \n",
      "29998                                   zydeco soup  486161       60   \n",
      "29999        cookies by design   cookies on a stick  298512       29   \n",
      "\n",
      "       contributor_id  submitted  n_steps  \\\n",
      "0               35193 2002-10-25      NaN   \n",
      "1               91970 2003-07-26      NaN   \n",
      "2                1533 2002-08-29      NaN   \n",
      "3               22724 2002-07-27      NaN   \n",
      "4                4470 2004-02-23      4.0   \n",
      "...               ...        ...      ...   \n",
      "29995          200862 2007-11-25     16.0   \n",
      "29996          177443 2009-08-24      NaN   \n",
      "29997          161745 2004-11-03      NaN   \n",
      "29998          227978 2012-08-29      NaN   \n",
      "29999          506822 2008-04-15      9.0   \n",
      "\n",
      "                                             description  n_ingredients  \n",
      "0      an original recipe created by chef scott meska...           18.0  \n",
      "1      my children and their friends ask for my homem...            NaN  \n",
      "2                these were so go, it surprised even me.            8.0  \n",
      "3      my sister-in-law made these for us at a family...            NaN  \n",
      "4      i think a fondue is a very romantic casual din...            NaN  \n",
      "...                                                  ...            ...  \n",
      "29995  this is based on a french recipe but i changed...           10.0  \n",
      "29996  this is a traditional fresh plum cake, thought...           11.0  \n",
      "29997  this is a traditional late summer early fall s...            NaN  \n",
      "29998  this is a delicious soup that i originally fou...            NaN  \n",
      "29999  i've heard of the 'cookies by design' company,...           10.0  \n",
      "\n",
      "[30000 rows x 8 columns]\n",
      "            user_id  recipe_id        date  rating  \\\n",
      "370476        21752      57993  2003-05-01       5   \n",
      "624300       431813     142201  2007-09-16       5   \n",
      "187037       400708     252013  2008-01-10       4   \n",
      "706134   2001852463     404716  2017-12-11       5   \n",
      "312179        95810     129396  2008-03-14       5   \n",
      "...             ...        ...         ...     ...   \n",
      "1013457     1270706     335534  2009-05-17       4   \n",
      "158736      2282344       8701  2012-06-03       0   \n",
      "1059834      689540     222001  2008-04-08       5   \n",
      "453285   2000242659     354979  2015-06-02       5   \n",
      "691207       463435     415599  2010-09-30       5   \n",
      "\n",
      "                                                    review  \n",
      "370476   Last week whole sides of frozen salmon fillet ...  \n",
      "624300   So simple and so tasty!  I used a yellow capsi...  \n",
      "187037   Very nice breakfast HH, easy to make and yummy...  \n",
      "706134   These are a favorite for the holidays and so e...  \n",
      "312179   Excellent soup!  The tomato flavor is just gre...  \n",
      "...                                                    ...  \n",
      "1013457  This recipe was great! I made it last night. I...  \n",
      "158736   This recipe is outstanding. I followed the rec...  \n",
      "1059834  Well, we were not a crowd but it was a fabulou...  \n",
      "453285   I have been a steak eater and dedicated BBQ gr...  \n",
      "691207   Wonderful and simple to prepare seasoning blen...  \n",
      "\n",
      "[126696 rows x 5 columns]\n"
     ]
    }
   ],
   "source": [
    "import pandas as pd\n",
    "\n",
    "fname = 'recipes_sample.csv'\n",
    "recipes = pd.read_csv(fname, delimiter = ',', parse_dates=['submitted'])\n",
    "\n",
    "fname_2 = 'reviews_sample.csv'\n",
    "reviews = pd.read_csv(fname_2, delimiter = ',', index_col = 'Unnamed: 0')\n",
    "\n",
    "print(recipes)\n",
    "print(reviews)"
   ]
  },
  {
   "cell_type": "markdown",
   "metadata": {},
   "source": [
    "1.2 Для каждой из таблиц выведите основные параметры:\n",
    "* количество точек данных (строк);\n",
    "* количество столбцов;\n",
    "* тип данных каждого столбца."
   ]
  },
  {
   "cell_type": "code",
   "execution_count": 3,
   "metadata": {},
   "outputs": [
    {
     "name": "stdout",
     "output_type": "stream",
     "text": [
      "30000 126696\n",
      "8 5\n",
      "name                      object\n",
      "id                         int64\n",
      "minutes                    int64\n",
      "contributor_id             int64\n",
      "submitted         datetime64[ns]\n",
      "n_steps                  float64\n",
      "description               object\n",
      "n_ingredients            float64\n",
      "dtype: object\n",
      "user_id       int64\n",
      "recipe_id     int64\n",
      "date         object\n",
      "rating        int64\n",
      "review       object\n",
      "dtype: object\n"
     ]
    }
   ],
   "source": [
    "number_of_rows = recipes.shape[0] \n",
    "number_of_rows1 = reviews.shape[0]\n",
    "\n",
    "print(number_of_rows, number_of_rows1)\n",
    "\n",
    "number_of_col = recipes.shape[1] \n",
    "number_of_col1 = reviews.shape[1]\n",
    "\n",
    "print(number_of_col, number_of_col1)\n",
    "\n",
    "print(recipes.dtypes) \n",
    "print(reviews.dtypes)"
   ]
  },
  {
   "cell_type": "markdown",
   "metadata": {},
   "source": [
    "1.3 Исследуйте, в каких столбцах таблиц содержатся пропуски. Посчитайте долю строк, содержащих пропуски, в отношении к общему количеству строк."
   ]
  },
  {
   "cell_type": "code",
   "execution_count": 4,
   "metadata": {},
   "outputs": [
    {
     "name": "stdout",
     "output_type": "stream",
     "text": [
      "name                  0\n",
      "id                    0\n",
      "minutes               0\n",
      "contributor_id        0\n",
      "submitted             0\n",
      "n_steps           11190\n",
      "description         623\n",
      "n_ingredients      8880\n",
      "dtype: int64\n",
      "user_id       0\n",
      "recipe_id     0\n",
      "date          0\n",
      "rating        0\n",
      "review       17\n",
      "dtype: int64\n",
      "name               0.000000\n",
      "id                 0.000000\n",
      "minutes            0.000000\n",
      "contributor_id     0.000000\n",
      "submitted          0.000000\n",
      "n_steps           37.300000\n",
      "description        2.076667\n",
      "n_ingredients     29.600000\n",
      "dtype: float64\n",
      "user_id      0.000000\n",
      "recipe_id    0.000000\n",
      "date         0.000000\n",
      "rating       0.000000\n",
      "review       0.013418\n",
      "dtype: float64\n"
     ]
    }
   ],
   "source": [
    "print(recipes.isnull().sum()) \n",
    "print(reviews.isnull().sum())\n",
    "\n",
    "print(recipes.isnull().sum ()/ len(recipes) * 100) \n",
    "print(reviews.isnull().sum ()/ len(reviews) * 100)"
   ]
  },
  {
   "cell_type": "markdown",
   "metadata": {},
   "source": [
    "1.4 Рассчитайте среднее значение для каждого из числовых столбцов (где это имеет смысл)."
   ]
  },
  {
   "cell_type": "code",
   "execution_count": 5,
   "metadata": {},
   "outputs": [
    {
     "name": "stdout",
     "output_type": "stream",
     "text": [
      "           id  minutes  contributor_id  n_steps  n_ingredients\n",
      "0       44123       90           35193      NaN           18.0\n",
      "1       67664       10           91970      NaN            NaN\n",
      "2       38798       30            1533      NaN            8.0\n",
      "3       35173       45           22724      NaN            NaN\n",
      "4       84797       25            4470      4.0            NaN\n",
      "...       ...      ...             ...      ...            ...\n",
      "29995  267661       80          200862     16.0           10.0\n",
      "29996  386977      240          177443      NaN           11.0\n",
      "29997  103312       75          161745      NaN            NaN\n",
      "29998  486161       60          227978      NaN            NaN\n",
      "29999  298512       29          506822      9.0           10.0\n",
      "\n",
      "[30000 rows x 5 columns]\n",
      "minutes          123.358133\n",
      "n_steps            9.805582\n",
      "n_ingredients      9.008286\n",
      "dtype: float64\n",
      "            user_id  recipe_id  rating\n",
      "370476        21752      57993       5\n",
      "624300       431813     142201       5\n",
      "187037       400708     252013       4\n",
      "706134   2001852463     404716       5\n",
      "312179        95810     129396       5\n",
      "...             ...        ...     ...\n",
      "1013457     1270706     335534       4\n",
      "158736      2282344       8701       0\n",
      "1059834      689540     222001       5\n",
      "453285   2000242659     354979       5\n",
      "691207       463435     415599       5\n",
      "\n",
      "[126696 rows x 3 columns]\n",
      "4.410802235271832\n"
     ]
    }
   ],
   "source": [
    "a = recipes.select_dtypes(include=['float64', 'int64']) \n",
    "print(a)\n",
    "print(a[['minutes', 'n_steps', 'n_ingredients']].mean()) \n",
    "\n",
    "b = reviews.select_dtypes(include=['float64', 'int64']) \n",
    "print(b)\n",
    "print(b['rating'].mean())"
   ]
  },
  {
   "cell_type": "markdown",
   "metadata": {},
   "source": [
    "1.5 Создайте серию из 10 случайных названий рецептов."
   ]
  },
  {
   "cell_type": "code",
   "execution_count": 6,
   "metadata": {},
   "outputs": [
    {
     "name": "stdout",
     "output_type": "stream",
     "text": [
      "10747                           fantastic banana fruitcake\n",
      "12573                greek orzo salad w  kalamata and feta\n",
      "29676                    yet   another tater tot casserole\n",
      "8856                   crusty parmesan herb zucchini bites\n",
      "21098                                     pomegranate duck\n",
      "17458                     mexican chicken   bean casserole\n",
      "1476                             avocado and tomatillo dip\n",
      "5120     cheese and squeeze   cheddar and beef   biscui...\n",
      "18338                            mushroom sesame tofu soup\n",
      "28279    tuscan t  bone steak  or  bistecca alla fioren...\n",
      "Name: name, dtype: object\n"
     ]
    }
   ],
   "source": [
    "c = pd.Series(recipes['name'].sample(n = 10, random_state = 1)) \n",
    "print(c)"
   ]
  },
  {
   "cell_type": "markdown",
   "metadata": {},
   "source": [
    "1.6 Измените индекс в таблице `reviews`, пронумеровав строки, начиная с нуля."
   ]
  },
  {
   "cell_type": "code",
   "execution_count": 7,
   "metadata": {},
   "outputs": [
    {
     "name": "stdout",
     "output_type": "stream",
     "text": [
      "           user_id  recipe_id        date  rating  \\\n",
      "0            21752      57993  2003-05-01       5   \n",
      "1           431813     142201  2007-09-16       5   \n",
      "2           400708     252013  2008-01-10       4   \n",
      "3       2001852463     404716  2017-12-11       5   \n",
      "4            95810     129396  2008-03-14       5   \n",
      "...            ...        ...         ...     ...   \n",
      "126691     1270706     335534  2009-05-17       4   \n",
      "126692     2282344       8701  2012-06-03       0   \n",
      "126693      689540     222001  2008-04-08       5   \n",
      "126694  2000242659     354979  2015-06-02       5   \n",
      "126695      463435     415599  2010-09-30       5   \n",
      "\n",
      "                                                   review  \n",
      "0       Last week whole sides of frozen salmon fillet ...  \n",
      "1       So simple and so tasty!  I used a yellow capsi...  \n",
      "2       Very nice breakfast HH, easy to make and yummy...  \n",
      "3       These are a favorite for the holidays and so e...  \n",
      "4       Excellent soup!  The tomato flavor is just gre...  \n",
      "...                                                   ...  \n",
      "126691  This recipe was great! I made it last night. I...  \n",
      "126692  This recipe is outstanding. I followed the rec...  \n",
      "126693  Well, we were not a crowd but it was a fabulou...  \n",
      "126694  I have been a steak eater and dedicated BBQ gr...  \n",
      "126695  Wonderful and simple to prepare seasoning blen...  \n",
      "\n",
      "[126696 rows x 5 columns]\n"
     ]
    }
   ],
   "source": [
    "reviews.reset_index(drop= True , inplace= True)\n",
    "print(reviews)"
   ]
  },
  {
   "cell_type": "markdown",
   "metadata": {},
   "source": [
    "1.7 Выведите информацию о рецептах, время выполнения которых не больше 20 минут и кол-во ингредиентов в которых не больше 5."
   ]
  },
  {
   "cell_type": "code",
   "execution_count": 8,
   "metadata": {},
   "outputs": [
    {
     "name": "stdout",
     "output_type": "stream",
     "text": [
      "                                                    name      id  minutes  \\\n",
      "28                                   quick biscuit bread  302399       20   \n",
      "60                         peas  fit for a king or queen  303944       20   \n",
      "90                     hawaiian sunrise           mimosa  100837        5   \n",
      "91            tasty dish s   banana pudding in 2 minutes  286484        2   \n",
      "94                                    1 minute meatballs   11361       13   \n",
      "...                                                  ...     ...      ...   \n",
      "29873  zip and steam red potatoes with butter and garlic  304922       13   \n",
      "29874                          ziplock vanilla ice cream   74250       10   \n",
      "29905                      zucchini and corn with cheese  256177       15   \n",
      "29980               zucchini with jalapeno monterey jack  320622       10   \n",
      "29983                          zucchini with serrano ham  162411       15   \n",
      "\n",
      "       contributor_id  submitted  n_steps  \\\n",
      "28             213909 2008-05-06     11.0   \n",
      "60             213909 2008-05-16      NaN   \n",
      "90              58104 2004-09-29      4.0   \n",
      "91              47892 2008-02-13      NaN   \n",
      "94               4470 2001-09-03      NaN   \n",
      "...               ...        ...      ...   \n",
      "29873          724218 2008-05-27      9.0   \n",
      "29874           24386 2003-10-29      8.0   \n",
      "29905          305531 2007-09-29      4.0   \n",
      "29980          305531 2008-08-20      3.0   \n",
      "29983          152500 2006-03-31      6.0   \n",
      "\n",
      "                                             description  n_ingredients  \n",
      "28     this is a wonderful quick bread to make as an ...            5.0  \n",
      "60     this recipe is so simple and the flavors are s...            5.0  \n",
      "90     pineapple mimosa was changed to hawaiian sunri...            3.0  \n",
      "91     \"mmmm, i love bananas!\" a --tasty dish-- origi...            4.0  \n",
      "94     this is a real short cut for cooks in a hurry....            2.0  \n",
      "...                                                  ...            ...  \n",
      "29873  i haven't tried this yet, but i am going to so...            5.0  \n",
      "29874  a fun thing for kids to do. may want to use mi...            3.0  \n",
      "29905  from betty crocker fresh spring recipes. i lik...            5.0  \n",
      "29980                                  simple and yummy!            3.0  \n",
      "29983  this dish is from tim malzer, a german chef wh...            5.0  \n",
      "\n",
      "[2019 rows x 8 columns]\n"
     ]
    }
   ],
   "source": [
    "print(recipes[(recipes['minutes'] <= 20) & (recipes['n_ingredients'] <= 5)])"
   ]
  },
  {
   "cell_type": "markdown",
   "metadata": {},
   "source": [
    "### Работа с датами в `pandas`"
   ]
  },
  {
   "cell_type": "markdown",
   "metadata": {},
   "source": [
    "2.1 Преобразуйте столбец `submitted` из таблицы `recipes` в формат времени. Модифицируйте решение задачи 1.1 так, чтобы считать столбец сразу в нужном формате."
   ]
  },
  {
   "cell_type": "code",
   "execution_count": 9,
   "metadata": {},
   "outputs": [
    {
     "name": "stdout",
     "output_type": "stream",
     "text": [
      "Тип изменен в пункте 1.1. параметром parse_dates=['submitted']\n",
      "name                      object\n",
      "id                         int64\n",
      "minutes                    int64\n",
      "contributor_id             int64\n",
      "submitted         datetime64[ns]\n",
      "n_steps                  float64\n",
      "description               object\n",
      "n_ingredients            float64\n",
      "dtype: object\n"
     ]
    }
   ],
   "source": [
    "print(\"Тип изменен в пункте 1.1. параметром parse_dates=['submitted']\")\n",
    "print(recipes.dtypes)"
   ]
  },
  {
   "cell_type": "markdown",
   "metadata": {},
   "source": [
    "2.2 Выведите информацию о рецептах, добавленных в датасет не позже 2010 года."
   ]
  },
  {
   "cell_type": "code",
   "execution_count": 10,
   "metadata": {},
   "outputs": [
    {
     "name": "stdout",
     "output_type": "stream",
     "text": [
      "                                               name      id  minutes  \\\n",
      "0             george s at the cove  black bean soup   44123       90   \n",
      "1                healthy for them  yogurt popsicles   67664       10   \n",
      "2                      i can t believe it s spinach   38798       30   \n",
      "3                              italian  gut busters   35173       45   \n",
      "4          love is in the air  beef fondue   sauces   84797       25   \n",
      "...                                             ...     ...      ...   \n",
      "29993                     zuni caf zucchini pickles  316950     2895   \n",
      "29995  zurie s holey rustic olive and cheddar bread  267661       80   \n",
      "29996          zwetschgenkuchen  bavarian plum cake  386977      240   \n",
      "29997   zwiebelkuchen   southwest german onion cake  103312       75   \n",
      "29999        cookies by design   cookies on a stick  298512       29   \n",
      "\n",
      "       contributor_id  submitted  n_steps  \\\n",
      "0               35193 2002-10-25      NaN   \n",
      "1               91970 2003-07-26      NaN   \n",
      "2                1533 2002-08-29      NaN   \n",
      "3               22724 2002-07-27      NaN   \n",
      "4                4470 2004-02-23      4.0   \n",
      "...               ...        ...      ...   \n",
      "29993           62264 2008-07-31      NaN   \n",
      "29995          200862 2007-11-25     16.0   \n",
      "29996          177443 2009-08-24      NaN   \n",
      "29997          161745 2004-11-03      NaN   \n",
      "29999          506822 2008-04-15      9.0   \n",
      "\n",
      "                                             description  n_ingredients  \n",
      "0      an original recipe created by chef scott meska...           18.0  \n",
      "1      my children and their friends ask for my homem...            NaN  \n",
      "2                these were so go, it surprised even me.            8.0  \n",
      "3      my sister-in-law made these for us at a family...            NaN  \n",
      "4      i think a fondue is a very romantic casual din...            NaN  \n",
      "...                                                  ...            ...  \n",
      "29993  refrigerator pickles for some of the zucchini ...            8.0  \n",
      "29995  this is based on a french recipe but i changed...           10.0  \n",
      "29996  this is a traditional fresh plum cake, thought...           11.0  \n",
      "29997  this is a traditional late summer early fall s...            NaN  \n",
      "29999  i've heard of the 'cookies by design' company,...           10.0  \n",
      "\n",
      "[26123 rows x 8 columns]\n"
     ]
    }
   ],
   "source": [
    "#pd.set_option('display.max_columns', None)   #Для отображения всего датасета и проверки\n",
    "print(recipes[recipes['submitted'] < \"01.01.2010\"])"
   ]
  },
  {
   "cell_type": "markdown",
   "metadata": {},
   "source": [
    "### Работа со строковыми данными в `pandas`"
   ]
  },
  {
   "cell_type": "markdown",
   "metadata": {},
   "source": [
    "3.1  Добавьте в таблицу `recipes` столбец `description_length`, в котором хранится длина описания рецепта из столбца `description`."
   ]
  },
  {
   "cell_type": "code",
   "execution_count": 12,
   "metadata": {},
   "outputs": [
    {
     "name": "stdout",
     "output_type": "stream",
     "text": [
      "0        330.0\n",
      "1        255.0\n",
      "2         39.0\n",
      "3        154.0\n",
      "4        587.0\n",
      "         ...  \n",
      "29995    484.0\n",
      "29996    286.0\n",
      "29997    311.0\n",
      "29998    648.0\n",
      "29999    125.0\n",
      "Name: description_length, Length: 30000, dtype: float64\n"
     ]
    }
   ],
   "source": [
    "recipes['description_length'] = recipes['description'].str.len()   \n",
    "print(recipes['description_length']) "
   ]
  },
  {
   "cell_type": "markdown",
   "metadata": {},
   "source": [
    "3.2 Измените название каждого рецепта в таблице `recipes` таким образом, чтобы каждое слово в названии начиналось с прописной буквы."
   ]
  },
  {
   "cell_type": "code",
   "execution_count": 13,
   "metadata": {},
   "outputs": [
    {
     "name": "stdout",
     "output_type": "stream",
     "text": [
      "                                               name      id  minutes  \\\n",
      "0             George S At The Cove  Black Bean Soup   44123       90   \n",
      "1                Healthy For Them  Yogurt Popsicles   67664       10   \n",
      "2                      I Can T Believe It S Spinach   38798       30   \n",
      "3                              Italian  Gut Busters   35173       45   \n",
      "4          Love Is In The Air  Beef Fondue   Sauces   84797       25   \n",
      "...                                             ...     ...      ...   \n",
      "29995  Zurie S Holey Rustic Olive And Cheddar Bread  267661       80   \n",
      "29996          Zwetschgenkuchen  Bavarian Plum Cake  386977      240   \n",
      "29997   Zwiebelkuchen   Southwest German Onion Cake  103312       75   \n",
      "29998                                   Zydeco Soup  486161       60   \n",
      "29999        Cookies By Design   Cookies On A Stick  298512       29   \n",
      "\n",
      "       contributor_id  submitted  n_steps  \\\n",
      "0               35193 2002-10-25      NaN   \n",
      "1               91970 2003-07-26      NaN   \n",
      "2                1533 2002-08-29      NaN   \n",
      "3               22724 2002-07-27      NaN   \n",
      "4                4470 2004-02-23      4.0   \n",
      "...               ...        ...      ...   \n",
      "29995          200862 2007-11-25     16.0   \n",
      "29996          177443 2009-08-24      NaN   \n",
      "29997          161745 2004-11-03      NaN   \n",
      "29998          227978 2012-08-29      NaN   \n",
      "29999          506822 2008-04-15      9.0   \n",
      "\n",
      "                                             description  n_ingredients  \\\n",
      "0      an original recipe created by chef scott meska...           18.0   \n",
      "1      my children and their friends ask for my homem...            NaN   \n",
      "2                these were so go, it surprised even me.            8.0   \n",
      "3      my sister-in-law made these for us at a family...            NaN   \n",
      "4      i think a fondue is a very romantic casual din...            NaN   \n",
      "...                                                  ...            ...   \n",
      "29995  this is based on a french recipe but i changed...           10.0   \n",
      "29996  this is a traditional fresh plum cake, thought...           11.0   \n",
      "29997  this is a traditional late summer early fall s...            NaN   \n",
      "29998  this is a delicious soup that i originally fou...            NaN   \n",
      "29999  i've heard of the 'cookies by design' company,...           10.0   \n",
      "\n",
      "       description_length  \n",
      "0                   330.0  \n",
      "1                   255.0  \n",
      "2                    39.0  \n",
      "3                   154.0  \n",
      "4                   587.0  \n",
      "...                   ...  \n",
      "29995               484.0  \n",
      "29996               286.0  \n",
      "29997               311.0  \n",
      "29998               648.0  \n",
      "29999               125.0  \n",
      "\n",
      "[30000 rows x 9 columns]\n"
     ]
    }
   ],
   "source": [
    "recipes['name'] = recipes['name'].str.title()  \n",
    "print(recipes)"
   ]
  },
  {
   "cell_type": "markdown",
   "metadata": {},
   "source": [
    "3.3 Добавьте в таблицу `recipes` столбец `name_word_count`, в котором хранится количество слов из названии рецепта (считайте, что слова в названии разделяются только пробелами). Обратите внимание, что между словами может располагаться несколько пробелов подряд."
   ]
  },
  {
   "cell_type": "code",
   "execution_count": 14,
   "metadata": {},
   "outputs": [
    {
     "name": "stdout",
     "output_type": "stream",
     "text": [
      "0        8\n",
      "1        5\n",
      "2        7\n",
      "3        3\n",
      "4        8\n",
      "        ..\n",
      "29995    8\n",
      "29996    4\n",
      "29997    5\n",
      "29998    2\n",
      "29999    7\n",
      "Name: name_word_count, Length: 30000, dtype: int64\n"
     ]
    }
   ],
   "source": [
    "recipes['name_word_count'] = recipes['name'].str.split(r'\\s{1,}').str.len()\n",
    "print(recipes['name_word_count']) "
   ]
  },
  {
   "cell_type": "markdown",
   "metadata": {},
   "source": [
    "### Группировки таблиц `pd.DataFrame`"
   ]
  },
  {
   "cell_type": "markdown",
   "metadata": {},
   "source": [
    "4.1 Посчитайте количество рецептов, представленных каждым из участников (`contributor_id`). Какой участник добавил максимальное кол-во рецептов?"
   ]
  },
  {
   "cell_type": "code",
   "execution_count": 15,
   "metadata": {},
   "outputs": [
    {
     "name": "stdout",
     "output_type": "stream",
     "text": [
      "contributor_id\n",
      "1530            5\n",
      "1533          186\n",
      "1534           50\n",
      "1535           40\n",
      "1538            8\n",
      "             ... \n",
      "2001968497      2\n",
      "2002059754      1\n",
      "2002234079      1\n",
      "2002234259      1\n",
      "2002247884      1\n",
      "Name: name, Length: 8404, dtype: int64\n",
      "421\n"
     ]
    }
   ],
   "source": [
    "print(recipes.groupby('contributor_id')['name'].count())\n",
    "print(recipes.groupby('contributor_id')['name'].count().max()) "
   ]
  },
  {
   "cell_type": "markdown",
   "metadata": {},
   "source": [
    "4.2 Посчитайте средний рейтинг к каждому из рецептов. Для скольких рецептов отсутствуют отзывы? Обратите внимание, что отзыв с нулевым рейтингом или не заполненным текстовым описанием не считается отсутствующим."
   ]
  },
  {
   "cell_type": "code",
   "execution_count": 16,
   "metadata": {},
   "outputs": [
    {
     "name": "stdout",
     "output_type": "stream",
     "text": [
      "recipe_id\n",
      "48        1.000000\n",
      "55        4.750000\n",
      "66        4.944444\n",
      "91        4.750000\n",
      "94        5.000000\n",
      "            ...   \n",
      "536547    5.000000\n",
      "536610    0.000000\n",
      "536728    4.000000\n",
      "536729    4.750000\n",
      "536747    0.000000\n",
      "Name: rating, Length: 28100, dtype: float64\n",
      "17\n"
     ]
    }
   ],
   "source": [
    "print(reviews.groupby('recipe_id')['rating'].mean())\n",
    "print(reviews['review'].isnull().sum().sum())"
   ]
  },
  {
   "cell_type": "markdown",
   "metadata": {},
   "source": [
    "4.3 Посчитайте количество рецептов с разбивкой по годам создания."
   ]
  },
  {
   "cell_type": "code",
   "execution_count": 17,
   "metadata": {},
   "outputs": [
    {
     "name": "stdout",
     "output_type": "stream",
     "text": [
      "submitted\n",
      "1999     275\n",
      "2000     104\n",
      "2001     589\n",
      "2002    2644\n",
      "2003    2334\n",
      "2004    2153\n",
      "2005    3130\n",
      "2006    3473\n",
      "2007    4429\n",
      "2008    4029\n",
      "2009    2963\n",
      "2010    1538\n",
      "2011     922\n",
      "2012     659\n",
      "2013     490\n",
      "2014     139\n",
      "2015      42\n",
      "2016      24\n",
      "2017      39\n",
      "2018      24\n",
      "Name: name, dtype: int64\n"
     ]
    }
   ],
   "source": [
    "print(recipes.groupby(recipes.submitted.dt.year)['name'].count())"
   ]
  },
  {
   "cell_type": "markdown",
   "metadata": {},
   "source": [
    "### Объединение таблиц `pd.DataFrame`"
   ]
  },
  {
   "cell_type": "markdown",
   "metadata": {},
   "source": [
    "5.1 При помощи объединения таблиц, создайте `DataFrame`, состоящий из четырех столбцов: `id`, `name`, `user_id`, `rating`. Рецепты, на которые не оставлен ни один отзыв, должны отсутствовать в полученной таблице. Подтвердите правильность работы вашего кода, выбрав рецепт, не имеющий отзывов, и попытавшись найти строку, соответствующую этому рецепту, в полученном `DataFrame`."
   ]
  },
  {
   "cell_type": "markdown",
   "metadata": {},
   "source": [
    "5.2 При помощи объединения таблиц и группировок, создайте `DataFrame`, состоящий из трех столбцов: `recipe_id`, `name`, `review_count`, где столбец `review_count` содержит кол-во отзывов, оставленных на рецепт `recipe_id`. У рецептов, на которые не оставлен ни один отзыв, в столбце `review_count` должен быть указан 0. Подтвердите правильность работы вашего кода, выбрав рецепт, не имеющий отзывов, и найдя строку, соответствующую этому рецепту, в полученном `DataFrame`."
   ]
  },
  {
   "cell_type": "markdown",
   "metadata": {},
   "source": [
    "5.3. Выясните, рецепты, добавленные в каком году, имеют наименьший средний рейтинг?"
   ]
  },
  {
   "cell_type": "markdown",
   "metadata": {},
   "source": [
    "### Сохранение таблиц `pd.DataFrame`"
   ]
  },
  {
   "cell_type": "markdown",
   "metadata": {},
   "source": [
    "6.1 Отсортируйте таблицу в порядке убывания величины столбца `name_word_count` и сохраните результаты выполнения заданий 3.1-3.3 в csv файл. "
   ]
  },
  {
   "cell_type": "code",
   "execution_count": 18,
   "metadata": {},
   "outputs": [
    {
     "name": "stdout",
     "output_type": "stream",
     "text": [
      "                                                    name      id  minutes  \\\n",
      "26223  Subru Uncle S Whole Green Moong Dal I Ll Be Ma...   77188       95   \n",
      "28083  Tsr Version Of T G I  Friday S Black Bean Soup...  102274       75   \n",
      "26222  Subru Uncle S Toor Ki Dal Sindhi Style  Dad  M...   76908       65   \n",
      "27876  Top Secret Recipes Version Of  I H O P  Griddl...  113346       20   \n",
      "5734   Chicken Curry Or  Cat S Vomit On A Bed Of Magg...  294898       30   \n",
      "...                                                  ...     ...      ...   \n",
      "3253                                          Blackmoons  323195      430   \n",
      "4138                                         Bushwhacker  156521       10   \n",
      "2357                                            Basbousa   12957       60   \n",
      "15052                                          Josefinas  264859       20   \n",
      "4710                                            Caramels  143615       30   \n",
      "\n",
      "       contributor_id  submitted  n_steps  \\\n",
      "26223            6357 2003-11-21      NaN   \n",
      "28083           74652 2004-10-19      9.0   \n",
      "26222            6357 2003-11-18     29.0   \n",
      "27876          175727 2005-03-14      5.0   \n",
      "5734           802799 2008-03-28     11.0   \n",
      "...               ...        ...      ...   \n",
      "3253           415934 2008-09-04      5.0   \n",
      "4138           177392 2006-02-17      1.0   \n",
      "2357            18391 2001-10-20      NaN   \n",
      "15052          498271 2007-11-11      7.0   \n",
      "4710           212088 2005-11-02      NaN   \n",
      "\n",
      "                                             description  n_ingredients  \\\n",
      "26223  my dad and mom quite enjoy this lentil curry. ...           15.0   \n",
      "28083  from www.topsecretrecipes.com i got this copyc...           16.0   \n",
      "26222  this is the lentil curry that subru uncle(our ...           15.0   \n",
      "27876  this recipe is top secret recipes version of i...            9.0   \n",
      "5734   an old family recipe that's easy to make since...           12.0   \n",
      "...                                                  ...            ...   \n",
      "3253   my mom was a newlywed in the 1950s when she fo...            NaN   \n",
      "4138   this drink is an excellent after dinner drink ...            6.0   \n",
      "2357   this is a traditional middle eastern dessert. ...            NaN   \n",
      "15052  from the junior league of corpus christi tx, t...            NaN   \n",
      "4710   i've been making these at christmas time for y...            6.0   \n",
      "\n",
      "       description_length  name_word_count  \n",
      "26223               343.0               15  \n",
      "28083               436.0               14  \n",
      "26222              1087.0               14  \n",
      "27876               129.0               14  \n",
      "5734                144.0               13  \n",
      "...                   ...              ...  \n",
      "3253                389.0                1  \n",
      "4138                124.0                1  \n",
      "2357                 78.0                1  \n",
      "15052                92.0                1  \n",
      "4710                341.0                1  \n",
      "\n",
      "[30000 rows x 10 columns]\n"
     ]
    }
   ],
   "source": [
    "recipes_sorted = recipes.sort_values(by=[\"name_word_count\"], ascending=False)\n",
    "print(recipes_sorted)\n",
    "recipes_sorted.to_csv('recipes_sorted.csv', index=False)"
   ]
  },
  {
   "cell_type": "markdown",
   "metadata": {},
   "source": [
    "6.2 Воспользовавшись `pd.ExcelWriter`, cохраните результаты 5.1 и 5.2 в файл: на лист с названием `Рецепты с оценками` сохраните результаты выполнения 5.1; на лист с названием `Количество отзывов по рецептам` сохраните результаты выполнения 5.2."
   ]
  },
  {
   "cell_type": "markdown",
   "metadata": {},
   "source": [
    "#### [версия 2]\n",
    "* Уточнены формулировки задач 1.1, 3.3, 4.2, 5.1, 5.2, 5.3"
   ]
  }
 ],
 "metadata": {
  "kernelspec": {
   "display_name": "Python 3 (ipykernel)",
   "language": "python",
   "name": "python3"
  },
  "language_info": {
   "codemirror_mode": {
    "name": "ipython",
    "version": 3
   },
   "file_extension": ".py",
   "mimetype": "text/x-python",
   "name": "python",
   "nbconvert_exporter": "python",
   "pygments_lexer": "ipython3",
   "version": "3.9.13"
  }
 },
 "nbformat": 4,
 "nbformat_minor": 4
}
